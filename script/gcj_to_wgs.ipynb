{
 "cells": [
  {
   "cell_type": "code",
   "execution_count": 2,
   "metadata": {},
   "outputs": [],
   "source": [
    "from frykit import DATA_DIRPATH\n",
    "from frykit._shp import convert_gcj_to_wgs, BinaryConverter"
   ]
  },
  {
   "cell_type": "code",
   "execution_count": null,
   "metadata": {},
   "outputs": [],
   "source": [
    "shp_dirpath = DATA_DIRPATH / 'shp'\n",
    "gcj_filepath = shp_dirpath / 'province.shp'\n",
    "wgs_filepath = shp_dirpath / 'new_province.shp'\n",
    "convert_gcj_to_wgs(gcj_filepath, wgs_filepath)\n",
    "\n",
    "with BinaryConverter(shp_dirpath / 'province.bin') as converter:\n",
    "    converter.convert(wgs_filepath)"
   ]
  }
 ],
 "metadata": {
  "kernelspec": {
   "display_name": "base",
   "language": "python",
   "name": "python3"
  },
  "language_info": {
   "codemirror_mode": {
    "name": "ipython",
    "version": 3
   },
   "file_extension": ".py",
   "mimetype": "text/x-python",
   "name": "python",
   "nbconvert_exporter": "python",
   "pygments_lexer": "ipython3",
   "version": "3.11.5"
  }
 },
 "nbformat": 4,
 "nbformat_minor": 2
}
