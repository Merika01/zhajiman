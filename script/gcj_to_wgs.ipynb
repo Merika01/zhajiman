{
 "cells": [
  {
   "cell_type": "code",
   "execution_count": 1,
   "metadata": {},
   "outputs": [],
   "source": [
    "import json\n",
    "from pathlib import Path\n",
    "\n",
    "import numpy as np\n",
    "import shapefile\n",
    "from prcoords import gcj_wgs_bored\n",
    "import shapely.geometry as sgeom"
   ]
  },
  {
   "cell_type": "code",
   "execution_count": 2,
   "metadata": {},
   "outputs": [],
   "source": [
    "dirpath_shp = Path('../frykit/data/shp')\n",
    "dirpath_topo = Path('../frykit/data/topo')\n",
    "if not dirpath_topo.exists():\n",
    "    dirpath_topo.mkdir(parents=True)"
   ]
  },
  {
   "cell_type": "code",
   "execution_count": 3,
   "metadata": {},
   "outputs": [],
   "source": [
    "# 制作九段线的shp文件.\n",
    "filepath_country = dirpath_shp / 'country.shp'\n",
    "filepath_geojson = dirpath_shp / '100000_full.json'\n",
    "with shapefile.Reader(str(filepath_country)) as reader:\n",
    "    fields = reader.fields\n",
    "with open(str(filepath_geojson), encoding='utf-8') as f:\n",
    "    geoj = json.load(f)\n",
    "geometry = geoj['features'][-1]['geometry']\n",
    "\n",
    "filepath_nine_line = dirpath_shp / 'nine_line.shp'\n",
    "with shapefile.Writer(str(filepath_nine_line)) as writer:\n",
    "    writer.fields = fields[1:]\n",
    "    writer.record(cn_adcode='100000', cn_name='九段线')\n",
    "    writer.shape(geometry)"
   ]
  },
  {
   "cell_type": "code",
   "execution_count": 4,
   "metadata": {},
   "outputs": [
    {
     "name": "stdout",
     "output_type": "stream",
     "text": [
      "..\\frykit\\data\\topo\\city.shp success\n",
      "..\\frykit\\data\\topo\\country.shp success\n",
      "..\\frykit\\data\\topo\\nine_line.shp success\n",
      "..\\frykit\\data\\topo\\province.shp success\n"
     ]
    }
   ],
   "source": [
    "def convert_shp_from_gcj_to_wgs(filepath_gcj, filepath_wgs):\n",
    "    '''将GCJ-02坐标系的shapefile文件转为WGS84坐标系.'''\n",
    "    reader = shapefile.Reader(str(filepath_gcj))\n",
    "    writer = shapefile.Writer(str(filepath_wgs))\n",
    "    writer.fields = reader.fields[1:]\n",
    "    \n",
    "    for shapeRec in reader.iterShapeRecords():\n",
    "        writer.record(*shapeRec.record)\n",
    "        shape = shapeRec.shape\n",
    "        for i in range(len(shape.points)):\n",
    "            lon, lat = shape.points[i]\n",
    "            lat, lon = gcj_wgs_bored((lat, lon))\n",
    "            shape.points[i] = [lon, lat]\n",
    "        if not sgeom.shape(shape).is_valid:\n",
    "            raise ValueError('转换导致几何错误')\n",
    "        writer.shape(shape)\n",
    "    \n",
    "    reader.close()\n",
    "    writer.close()\n",
    "\n",
    "# 火星坐标系的shapefile文件转WGS坐标系.\n",
    "for filepath_gcj in dirpath_shp.glob('*.shp'):\n",
    "    filepath_wgs = dirpath_topo / filepath_gcj.name\n",
    "    convert_shp_from_gcj_to_wgs(filepath_gcj, filepath_wgs)\n",
    "    print(filepath_wgs, 'success')"
   ]
  }
 ],
 "metadata": {
  "kernelspec": {
   "display_name": "Python 3.9.12 ('base')",
   "language": "python",
   "name": "python3"
  },
  "language_info": {
   "codemirror_mode": {
    "name": "ipython",
    "version": 3
   },
   "file_extension": ".py",
   "mimetype": "text/x-python",
   "name": "python",
   "nbconvert_exporter": "python",
   "pygments_lexer": "ipython3",
   "version": "3.9.12"
  },
  "orig_nbformat": 4,
  "vscode": {
   "interpreter": {
    "hash": "a04f5d07b0747026a8fbcdf50b9443318e69b1b8bd6247d88bfadb4789282972"
   }
  }
 },
 "nbformat": 4,
 "nbformat_minor": 2
}
