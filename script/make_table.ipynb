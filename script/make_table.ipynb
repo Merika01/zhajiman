{
 "cells": [
  {
   "cell_type": "markdown",
   "metadata": {},
   "source": [
    "根据 shapefile 文件的字段制作 CSV 表格。"
   ]
  },
  {
   "cell_type": "code",
   "execution_count": 10,
   "metadata": {},
   "outputs": [],
   "source": [
    "import shapefile\n",
    "import pandas as pd\n",
    "from frykit import DATA_DIRPATH"
   ]
  },
  {
   "cell_type": "code",
   "execution_count": 11,
   "metadata": {},
   "outputs": [],
   "source": [
    "shp_dirpath = DATA_DIRPATH / 'shp'"
   ]
  },
  {
   "cell_type": "code",
   "execution_count": 12,
   "metadata": {},
   "outputs": [],
   "source": [
    "for level in ['province', 'city']:\n",
    "    records = []\n",
    "    with shapefile.Reader(str(shp_dirpath / f'{level}.shp')) as reader:\n",
    "        for record in reader.iterRecords():\n",
    "            records.append(record.as_dict())\n",
    "    table = pd.DataFrame.from_records(records)\n",
    "    table.to_csv(str(shp_dirpath / f'{level}.csv'), index=False)"
   ]
  }
 ],
 "metadata": {
  "kernelspec": {
   "display_name": "base",
   "language": "python",
   "name": "python3"
  },
  "language_info": {
   "codemirror_mode": {
    "name": "ipython",
    "version": 3
   },
   "file_extension": ".py",
   "mimetype": "text/x-python",
   "name": "python",
   "nbconvert_exporter": "python",
   "pygments_lexer": "ipython3",
   "version": "3.11.5"
  },
  "orig_nbformat": 4
 },
 "nbformat": 4,
 "nbformat_minor": 2
}
