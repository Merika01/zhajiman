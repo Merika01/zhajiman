{
 "cells": [
  {
   "cell_type": "code",
   "execution_count": 1,
   "metadata": {},
   "outputs": [],
   "source": [
    "from pathlib import Path\n",
    "\n",
    "import shapefile\n",
    "import pandas as pd"
   ]
  },
  {
   "cell_type": "code",
   "execution_count": 2,
   "metadata": {},
   "outputs": [],
   "source": [
    "# 准备文件.\n",
    "dirpath_shp = Path('../frykit/data/shp')\n",
    "filepath_country = dirpath_shp / 'country.shp'\n",
    "filepath_province = dirpath_shp / 'province.shp'\n",
    "filepath_city = dirpath_shp / 'city.shp'\n",
    "rows = []"
   ]
  },
  {
   "cell_type": "code",
   "execution_count": null,
   "metadata": {},
   "outputs": [],
   "source": [
    "# 记录国界信息.\n",
    "row = {\n",
    "    'level': '国',\n",
    "    'province': None,\n",
    "    'city': None,\n",
    "    'filename': filepath_country.stem,\n",
    "    'index': 0\n",
    "}\n",
    "rows.append(row)"
   ]
  },
  {
   "cell_type": "code",
   "execution_count": 3,
   "metadata": {},
   "outputs": [],
   "source": [
    "# 记录省界信息.\n",
    "with shapefile.Reader(str(filepath_province)) as reader:\n",
    "    for i, record in enumerate(reader.iterRecords()):\n",
    "        row = {\n",
    "            'level': '省',\n",
    "            'province': record['pr_name'],\n",
    "            'city': None,\n",
    "            'filename': filepath_province.stem,\n",
    "            'index': i\n",
    "        }\n",
    "        rows.append(row)"
   ]
  },
  {
   "cell_type": "code",
   "execution_count": 4,
   "metadata": {},
   "outputs": [],
   "source": [
    "# 记录市界信息.\n",
    "with shapefile.Reader(str(filepath_city)) as reader:\n",
    "    for i, record in enumerate(reader.iterRecords()):\n",
    "        row = {\n",
    "            'level': '市',\n",
    "            'province': record['pr_name'],\n",
    "            'city': record['ct_name'],\n",
    "            'filename': filepath_city.stem,\n",
    "            'index': i\n",
    "        }\n",
    "        rows.append(row)"
   ]
  },
  {
   "cell_type": "code",
   "execution_count": 5,
   "metadata": {},
   "outputs": [],
   "source": [
    "# 保存表格.\n",
    "table = pd.DataFrame.from_records(rows)\n",
    "table = table.set_index(['level', 'province', 'city']).sort_index()\n",
    "filepath_table = dirpath_shp / 'table.csv'\n",
    "table.to_csv(str(filepath_table))"
   ]
  }
 ],
 "metadata": {
  "kernelspec": {
   "display_name": "base",
   "language": "python",
   "name": "python3"
  },
  "language_info": {
   "codemirror_mode": {
    "name": "ipython",
    "version": 3
   },
   "file_extension": ".py",
   "mimetype": "text/x-python",
   "name": "python",
   "nbconvert_exporter": "python",
   "pygments_lexer": "ipython3",
   "version": "3.9.12"
  },
  "orig_nbformat": 4
 },
 "nbformat": 4,
 "nbformat_minor": 2
}
