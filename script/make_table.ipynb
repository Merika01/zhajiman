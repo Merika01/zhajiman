{
 "cells": [
  {
   "cell_type": "code",
   "execution_count": 2,
   "metadata": {},
   "outputs": [],
   "source": [
    "import shapefile\n",
    "import pandas as pd\n",
    "from frykit import DATA_DIRPATH"
   ]
  },
  {
   "cell_type": "code",
   "execution_count": 3,
   "metadata": {},
   "outputs": [],
   "source": [
    "shp_dirpath = DATA_DIRPATH / 'shp'\n",
    "province_filepath = shp_dirpath / 'province.shp'\n",
    "city_filepath = shp_dirpath / 'city.shp'"
   ]
  },
  {
   "cell_type": "code",
   "execution_count": 5,
   "metadata": {},
   "outputs": [],
   "source": [
    "pr_names = []\n",
    "pr_adcodes = []\n",
    "with shapefile.Reader(str(province_filepath)) as reader:\n",
    "    for record in reader.iterRecords():\n",
    "        pr_names.append(record.pr_name)\n",
    "        pr_adcodes.append(record.pr_adcode)\n",
    "\n",
    "df_province = pd.DataFrame({\n",
    "    'pr_name': pr_names,\n",
    "    'pr_adcode': pr_adcodes\n",
    "})\n",
    "df_province.to_csv(\n",
    "    str(shp_dirpath / 'province.csv'),\n",
    "    index=False\n",
    ")"
   ]
  },
  {
   "cell_type": "code",
   "execution_count": 6,
   "metadata": {},
   "outputs": [],
   "source": [
    "ct_names = []\n",
    "ct_adcodes = []\n",
    "pr_names = []\n",
    "pr_adcodes = []\n",
    "with shapefile.Reader(str(city_filepath)) as reader:\n",
    "    for record in reader.iterRecords():\n",
    "        ct_names.append(record.ct_name)\n",
    "        ct_adcodes.append(record.ct_adcode)\n",
    "        pr_names.append(record.pr_name)\n",
    "        pr_adcodes.append(record.pr_adcode)\n",
    "\n",
    "df_city = pd.DataFrame({\n",
    "    'ct_name': ct_names,\n",
    "    'ct_adcode': ct_adcodes,\n",
    "    'pr_name': pr_names,\n",
    "    'pr_adcode': pr_adcodes\n",
    "})\n",
    "df_city.to_csv(\n",
    "    str(shp_dirpath / 'city.csv'),\n",
    "    index=False\n",
    ")"
   ]
  }
 ],
 "metadata": {
  "kernelspec": {
   "display_name": "base",
   "language": "python",
   "name": "python3"
  },
  "language_info": {
   "codemirror_mode": {
    "name": "ipython",
    "version": 3
   },
   "file_extension": ".py",
   "mimetype": "text/x-python",
   "name": "python",
   "nbconvert_exporter": "python",
   "pygments_lexer": "ipython3",
   "version": "3.11.5"
  },
  "orig_nbformat": 4
 },
 "nbformat": 4,
 "nbformat_minor": 2
}
